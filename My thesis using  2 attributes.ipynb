{
 "cells": [
  {
   "cell_type": "code",
   "execution_count": 37,
   "metadata": {},
   "outputs": [],
   "source": [
    "import numpy as np \n",
    "import pandas as pd"
   ]
  },
  {
   "cell_type": "code",
   "execution_count": 38,
   "metadata": {},
   "outputs": [
    {
     "data": {
      "text/html": [
       "<div>\n",
       "<style scoped>\n",
       "    .dataframe tbody tr th:only-of-type {\n",
       "        vertical-align: middle;\n",
       "    }\n",
       "\n",
       "    .dataframe tbody tr th {\n",
       "        vertical-align: top;\n",
       "    }\n",
       "\n",
       "    .dataframe thead th {\n",
       "        text-align: right;\n",
       "    }\n",
       "</style>\n",
       "<table border=\"1\" class=\"dataframe\">\n",
       "  <thead>\n",
       "    <tr style=\"text-align: right;\">\n",
       "      <th></th>\n",
       "      <th>Team 1</th>\n",
       "      <th>Result</th>\n",
       "      <th>Winner</th>\n",
       "      <th>Toss</th>\n",
       "      <th>toss_winner</th>\n",
       "      <th>Bat</th>\n",
       "      <th>Team 2</th>\n",
       "      <th>Ground</th>\n",
       "      <th>Start Date</th>\n",
       "      <th>Host_Country</th>\n",
       "      <th>Venue_Team 1</th>\n",
       "      <th>Venue_Team 2</th>\n",
       "      <th>Inning_Team1</th>\n",
       "      <th>Inning_Team2</th>\n",
       "      <th>Team1_Toss</th>\n",
       "      <th>Margin</th>\n",
       "      <th>Team2_Toss</th>\n",
       "      <th>pitch</th>\n",
       "      <th>Winner_Inning</th>\n",
       "      <th>pitchn</th>\n",
       "    </tr>\n",
       "  </thead>\n",
       "  <tbody>\n",
       "    <tr>\n",
       "      <td>0</td>\n",
       "      <td>New Zealand</td>\n",
       "      <td>won</td>\n",
       "      <td>New Zealand</td>\n",
       "      <td>lost</td>\n",
       "      <td>New Zealand</td>\n",
       "      <td>2nd</td>\n",
       "      <td>West Indies</td>\n",
       "      <td>Napier</td>\n",
       "      <td>6-Jan-00</td>\n",
       "      <td>New Zealand</td>\n",
       "      <td>Home</td>\n",
       "      <td>Away</td>\n",
       "      <td>2nd</td>\n",
       "      <td>first</td>\n",
       "      <td>lost</td>\n",
       "      <td>4 wickets</td>\n",
       "      <td>won</td>\n",
       "      <td>fast/green/bouncy</td>\n",
       "      <td>2ndinningwinner</td>\n",
       "      <td>fast/green/swing/bouncy</td>\n",
       "    </tr>\n",
       "    <tr>\n",
       "      <td>1</td>\n",
       "      <td>West Indies</td>\n",
       "      <td>lost</td>\n",
       "      <td>New Zealand</td>\n",
       "      <td>won</td>\n",
       "      <td>West Indies</td>\n",
       "      <td>first</td>\n",
       "      <td>New Zealand</td>\n",
       "      <td>Napier</td>\n",
       "      <td>6-Jan-00</td>\n",
       "      <td>New Zealand</td>\n",
       "      <td>Away</td>\n",
       "      <td>Home</td>\n",
       "      <td>first</td>\n",
       "      <td>2nd</td>\n",
       "      <td>won</td>\n",
       "      <td>4 wickets</td>\n",
       "      <td>lost</td>\n",
       "      <td>fast/green/bouncy</td>\n",
       "      <td>2ndinningwinner</td>\n",
       "      <td>fast/green/swing/bouncy</td>\n",
       "    </tr>\n",
       "    <tr>\n",
       "      <td>2</td>\n",
       "      <td>New Zealand</td>\n",
       "      <td>won</td>\n",
       "      <td>New Zealand</td>\n",
       "      <td>won</td>\n",
       "      <td>New Zealand</td>\n",
       "      <td>2nd</td>\n",
       "      <td>West Indies</td>\n",
       "      <td>Wellington</td>\n",
       "      <td>8-Jan-00</td>\n",
       "      <td>New Zealand</td>\n",
       "      <td>Home</td>\n",
       "      <td>Away</td>\n",
       "      <td>2nd</td>\n",
       "      <td>first</td>\n",
       "      <td>won</td>\n",
       "      <td>8 wickets</td>\n",
       "      <td>lost</td>\n",
       "      <td>fast/green/bouncy</td>\n",
       "      <td>2ndinningwinner</td>\n",
       "      <td>fast/green/swing/bouncy</td>\n",
       "    </tr>\n",
       "    <tr>\n",
       "      <td>3</td>\n",
       "      <td>West Indies</td>\n",
       "      <td>lost</td>\n",
       "      <td>New Zealand</td>\n",
       "      <td>lost</td>\n",
       "      <td>West Indies</td>\n",
       "      <td>first</td>\n",
       "      <td>New Zealand</td>\n",
       "      <td>Wellington</td>\n",
       "      <td>8-Jan-00</td>\n",
       "      <td>New Zealand</td>\n",
       "      <td>Away</td>\n",
       "      <td>Home</td>\n",
       "      <td>first</td>\n",
       "      <td>2nd</td>\n",
       "      <td>lost</td>\n",
       "      <td>8 wickets</td>\n",
       "      <td>won</td>\n",
       "      <td>fast/green/bouncy</td>\n",
       "      <td>2ndinningwinner</td>\n",
       "      <td>fast/green/swing/bouncy</td>\n",
       "    </tr>\n",
       "    <tr>\n",
       "      <td>4</td>\n",
       "      <td>Australia</td>\n",
       "      <td>lost</td>\n",
       "      <td>Pakistan</td>\n",
       "      <td>lost</td>\n",
       "      <td>Australia</td>\n",
       "      <td>2nd</td>\n",
       "      <td>Pakistan</td>\n",
       "      <td>Brisbane</td>\n",
       "      <td>9-Jan-00</td>\n",
       "      <td>Australia</td>\n",
       "      <td>Home</td>\n",
       "      <td>Away</td>\n",
       "      <td>2nd</td>\n",
       "      <td>first</td>\n",
       "      <td>lost</td>\n",
       "      <td>45 runs</td>\n",
       "      <td>won</td>\n",
       "      <td>fast/ bouncy</td>\n",
       "      <td>1stinningwinner</td>\n",
       "      <td>fast/ high bounce</td>\n",
       "    </tr>\n",
       "  </tbody>\n",
       "</table>\n",
       "</div>"
      ],
      "text/plain": [
       "        Team 1 Result       Winner  Toss  toss_winner    Bat       Team 2  \\\n",
       "0  New Zealand    won  New Zealand  lost  New Zealand    2nd  West Indies   \n",
       "1  West Indies   lost  New Zealand   won  West Indies  first  New Zealand   \n",
       "2  New Zealand    won  New Zealand   won  New Zealand    2nd  West Indies   \n",
       "3  West Indies   lost  New Zealand  lost  West Indies  first  New Zealand   \n",
       "4    Australia   lost     Pakistan  lost    Australia    2nd     Pakistan   \n",
       "\n",
       "       Ground Start Date Host_Country Venue_Team 1 Venue_Team 2 Inning_Team1  \\\n",
       "0      Napier   6-Jan-00  New Zealand         Home         Away          2nd   \n",
       "1      Napier   6-Jan-00  New Zealand         Away         Home        first   \n",
       "2  Wellington   8-Jan-00  New Zealand         Home         Away          2nd   \n",
       "3  Wellington   8-Jan-00  New Zealand         Away         Home        first   \n",
       "4    Brisbane   9-Jan-00    Australia         Home         Away          2nd   \n",
       "\n",
       "  Inning_Team2 Team1_Toss     Margin Team2_Toss              pitch  \\\n",
       "0        first       lost  4 wickets        won  fast/green/bouncy   \n",
       "1          2nd        won  4 wickets       lost  fast/green/bouncy   \n",
       "2        first        won  8 wickets       lost  fast/green/bouncy   \n",
       "3          2nd       lost  8 wickets        won  fast/green/bouncy   \n",
       "4        first       lost    45 runs        won       fast/ bouncy   \n",
       "\n",
       "     Winner_Inning                   pitchn  \n",
       "0  2ndinningwinner  fast/green/swing/bouncy  \n",
       "1  2ndinningwinner  fast/green/swing/bouncy  \n",
       "2  2ndinningwinner  fast/green/swing/bouncy  \n",
       "3  2ndinningwinner  fast/green/swing/bouncy  \n",
       "4  1stinningwinner        fast/ high bounce  "
      ]
     },
     "execution_count": 38,
     "metadata": {},
     "output_type": "execute_result"
    }
   ],
   "source": [
    "matches=pd.read_csv('2000 to 2019.csv',encoding=\"windows-1252\")\n",
    "matches.head()"
   ]
  },
  {
   "cell_type": "code",
   "execution_count": 39,
   "metadata": {},
   "outputs": [
    {
     "data": {
      "text/plain": [
       "array(['New Zealand', 'Pakistan', 'Australia', 'South Africa', 'England',\n",
       "       'India', 'Zimbabwe', 'Sri Lanka', 'West Indies', 'Bangladesh',\n",
       "       'Netherlands', 'Ireland', 'Afghanistan'], dtype=object)"
      ]
     },
     "execution_count": 39,
     "metadata": {},
     "output_type": "execute_result"
    }
   ],
   "source": [
    "matches.Winner.unique()"
   ]
  },
  {
   "cell_type": "code",
   "execution_count": 40,
   "metadata": {},
   "outputs": [
    {
     "data": {
      "text/html": [
       "<div>\n",
       "<style scoped>\n",
       "    .dataframe tbody tr th:only-of-type {\n",
       "        vertical-align: middle;\n",
       "    }\n",
       "\n",
       "    .dataframe tbody tr th {\n",
       "        vertical-align: top;\n",
       "    }\n",
       "\n",
       "    .dataframe thead th {\n",
       "        text-align: right;\n",
       "    }\n",
       "</style>\n",
       "<table border=\"1\" class=\"dataframe\">\n",
       "  <thead>\n",
       "    <tr style=\"text-align: right;\">\n",
       "      <th></th>\n",
       "      <th>Team 1</th>\n",
       "      <th>Result</th>\n",
       "      <th>Winner</th>\n",
       "      <th>Toss</th>\n",
       "      <th>toss_winner</th>\n",
       "      <th>Bat</th>\n",
       "      <th>Team 2</th>\n",
       "      <th>Ground</th>\n",
       "      <th>Start Date</th>\n",
       "      <th>Host_Country</th>\n",
       "      <th>Venue_Team 1</th>\n",
       "      <th>Venue_Team 2</th>\n",
       "      <th>Inning_Team1</th>\n",
       "      <th>Inning_Team2</th>\n",
       "      <th>Team1_Toss</th>\n",
       "      <th>Margin</th>\n",
       "      <th>Team2_Toss</th>\n",
       "      <th>pitch</th>\n",
       "      <th>Winner_Inning</th>\n",
       "      <th>pitchn</th>\n",
       "    </tr>\n",
       "  </thead>\n",
       "  <tbody>\n",
       "    <tr>\n",
       "      <td>4505</td>\n",
       "      <td>5</td>\n",
       "      <td>40</td>\n",
       "      <td>5</td>\n",
       "      <td>won</td>\n",
       "      <td>WI</td>\n",
       "      <td>2nd</td>\n",
       "      <td>12</td>\n",
       "      <td>Lucknow</td>\n",
       "      <td>11-Nov-19</td>\n",
       "      <td>1</td>\n",
       "      <td>Neutral</td>\n",
       "      <td>Neutral</td>\n",
       "      <td>2nd</td>\n",
       "      <td>first</td>\n",
       "      <td>won</td>\n",
       "      <td>5 wickets</td>\n",
       "      <td>lost</td>\n",
       "      <td>flat/dead\\dry</td>\n",
       "      <td>2ndinningwinner</td>\n",
       "      <td>flat/dead</td>\n",
       "    </tr>\n",
       "    <tr>\n",
       "      <td>4506</td>\n",
       "      <td>12</td>\n",
       "      <td>41</td>\n",
       "      <td>5</td>\n",
       "      <td>lost</td>\n",
       "      <td>Afg</td>\n",
       "      <td>first</td>\n",
       "      <td>5</td>\n",
       "      <td>Lucknow</td>\n",
       "      <td>11-Nov-19</td>\n",
       "      <td>1</td>\n",
       "      <td>Neutral</td>\n",
       "      <td>Neutral</td>\n",
       "      <td>first</td>\n",
       "      <td>2nd</td>\n",
       "      <td>lost</td>\n",
       "      <td>5 wickets</td>\n",
       "      <td>won</td>\n",
       "      <td>flat/dead\\dry</td>\n",
       "      <td>2ndinningwinner</td>\n",
       "      <td>flat/dead</td>\n",
       "    </tr>\n",
       "  </tbody>\n",
       "</table>\n",
       "</div>"
      ],
      "text/plain": [
       "     Team 1  Result Winner  Toss toss_winner    Bat Team 2   Ground  \\\n",
       "4505      5      40      5   won          WI    2nd     12  Lucknow   \n",
       "4506     12      41      5  lost         Afg  first      5  Lucknow   \n",
       "\n",
       "     Start Date Host_Country Venue_Team 1 Venue_Team 2 Inning_Team1  \\\n",
       "4505  11-Nov-19            1      Neutral      Neutral          2nd   \n",
       "4506  11-Nov-19            1      Neutral      Neutral        first   \n",
       "\n",
       "     Inning_Team2 Team1_Toss     Margin Team2_Toss           pitch  \\\n",
       "4505        first        won  5 wickets       lost   flat/dead\\dry   \n",
       "4506          2nd       lost  5 wickets        won   flat/dead\\dry   \n",
       "\n",
       "        Winner_Inning     pitchn  \n",
       "4505  2ndinningwinner  flat/dead  \n",
       "4506  2ndinningwinner  flat/dead  "
      ]
     },
     "execution_count": 40,
     "metadata": {},
     "output_type": "execute_result"
    }
   ],
   "source": [
    "matches.replace(['India','Australia','New Zealand','Sri Lanka','West Indies',\n",
    "                 'South Africa','Bangladesh','England','Pakistan',\n",
    "                 'Zimbabwe','Kenya','Afghanistan','Hong Kong','Scotland','Ireland','Bermuda','Namibia','Netherlands','U.A.E.','Malaysia','Canada','East Africa']\n",
    "                ,['Ind','Aus','NZ','SL','WI','SA','Ban','Eng','Pak','Zim','Ken','Afg','HK','Sco','Ire','Ber','Nam','Net','Uae','Mal','can','Ea'],inplace=True)\n",
    "\n",
    "TeamCode = {'Team 1': {'Ind':1,'Aus':2,'NZ':3,'SL':4,'WI':5,'SA':6,'Ban':7,'Eng':8,'Pak':9,'Zim':10,'Ken':11,'Afg':12,'HK':13,'Sco':14,'Ire':15,'Ber':16,'Nam':17,'Net':18,'Uae':19,'Mal':20,'can':21,'Ea':22},\n",
    "          'Team 2': {'Ind':1,'Aus':2,'NZ':3,'SL':4,'WI':5,'SA':6,'Ban':7,'Eng':8,'Pak':9,'Zim':10,'Ken':11,'Afg':12,'HK':13,'Sco':14,'Ire':15,'Ber':16,'Nam':17,'Net':18,'Uae':19,'Mal':20,'can':21,'Ea':22},\n",
    "          'Host_Country': {'Ind':1,'Aus':2,'NZ':3,'SL':4,'WI':5,'SA':6,'Ban':7,'Eng':8,'Pak':9,'Zim':10,'Ken':11,'Afg':12,'HK':13,'Sco':14,'Ire':15,'Ber':16,'Nam':17,'Net':18,'Uae':19,'Mal':20,'can':21,'Ea':22},\n",
    "          'Winner': {'Ind':1,'Aus':2,'NZ':3,'SL':4,'WI':5,'SA':6,'Ban':7,'Eng':8,'Pak':9,'Zim':10,'Ken':11,'Afg':12,'HK':13,'Sco':14,'Ire':15,'Ber':16,'Nam':17,'Net':18,'Uae':19,'Mal':20,'can':21,'Ea':22}, \n",
    "           'Result':{'won':40,'lost':41}\n",
    "           }\n",
    "matches.replace(TeamCode, inplace=True)\n",
    "matches.tail(2)"
   ]
  },
  {
   "cell_type": "code",
   "execution_count": 41,
   "metadata": {},
   "outputs": [
    {
     "name": "stdout",
     "output_type": "stream",
     "text": [
      "1\n",
      "WI\n",
      "{'Ind': 1, 'Aus': 2, 'NZ': 3, 'SL': 4, 'WI': 5, 'SA': 6, 'Ban': 7, 'Eng': 8, 'Pak': 9, 'Zim': 10, 'Ken': 11, 'Afg': 12, 'HK': 13, 'Sco': 14, 'Ire': 15, 'Ber': 16, 'Nam': 17, 'Net': 18, 'Uae': 19, 'Mal': 20, 'can': 21, 'Ea': 22}\n"
     ]
    }
   ],
   "source": [
    "dicVal = TeamCode['Host_Country']\n",
    "print(dicVal['Ind']) #print value from key\n",
    "print(list(dicVal.keys())[list(dicVal.values()).index(5)])#find key by value\n",
    "print(dicVal)"
   ]
  },
  {
   "cell_type": "code",
   "execution_count": 46,
   "metadata": {},
   "outputs": [
    {
     "data": {
      "text/html": [
       "<div>\n",
       "<style scoped>\n",
       "    .dataframe tbody tr th:only-of-type {\n",
       "        vertical-align: middle;\n",
       "    }\n",
       "\n",
       "    .dataframe tbody tr th {\n",
       "        vertical-align: top;\n",
       "    }\n",
       "\n",
       "    .dataframe thead th {\n",
       "        text-align: right;\n",
       "    }\n",
       "</style>\n",
       "<table border=\"1\" class=\"dataframe\">\n",
       "  <thead>\n",
       "    <tr style=\"text-align: right;\">\n",
       "      <th></th>\n",
       "      <th>Team 1</th>\n",
       "      <th>Team 2</th>\n",
       "      <th>Bat</th>\n",
       "      <th>Ground</th>\n",
       "      <th>Host_Country</th>\n",
       "      <th>Result</th>\n",
       "      <th>Winner</th>\n",
       "      <th>pitchn</th>\n",
       "      <th>Toss</th>\n",
       "      <th>Venue_Team 1</th>\n",
       "      <th>Venue_Team 2</th>\n",
       "      <th>Winner_Inning</th>\n",
       "    </tr>\n",
       "  </thead>\n",
       "  <tbody>\n",
       "    <tr>\n",
       "      <td>0</td>\n",
       "      <td>2</td>\n",
       "      <td>4</td>\n",
       "      <td>0</td>\n",
       "      <td>93</td>\n",
       "      <td>3</td>\n",
       "      <td>40</td>\n",
       "      <td>2</td>\n",
       "      <td>5</td>\n",
       "      <td>lost</td>\n",
       "      <td>Home</td>\n",
       "      <td>Away</td>\n",
       "      <td>2ndinningwinner</td>\n",
       "    </tr>\n",
       "    <tr>\n",
       "      <td>1</td>\n",
       "      <td>4</td>\n",
       "      <td>2</td>\n",
       "      <td>1</td>\n",
       "      <td>93</td>\n",
       "      <td>3</td>\n",
       "      <td>41</td>\n",
       "      <td>2</td>\n",
       "      <td>5</td>\n",
       "      <td>won</td>\n",
       "      <td>Away</td>\n",
       "      <td>Home</td>\n",
       "      <td>2ndinningwinner</td>\n",
       "    </tr>\n",
       "  </tbody>\n",
       "</table>\n",
       "</div>"
      ],
      "text/plain": [
       "   Team 1  Team 2  Bat  Ground Host_Country  Result  Winner  pitchn  Toss  \\\n",
       "0       2       4    0      93            3      40       2       5  lost   \n",
       "1       4       2    1      93            3      41       2       5   won   \n",
       "\n",
       "  Venue_Team 1 Venue_Team 2    Winner_Inning  \n",
       "0         Home         Away  2ndinningwinner  \n",
       "1         Away         Home  2ndinningwinner  "
      ]
     },
     "execution_count": 46,
     "metadata": {},
     "output_type": "execute_result"
    }
   ],
   "source": [
    "matches = matches[['Team 1','Team 2','Bat','Ground','Host_Country','Result','Winner','pitchn','Toss','Venue_Team 1','Venue_Team 2','Winner_Inning']]\n",
    "#we tool only the columns which are relevant to the outcome i.e winner\n",
    "matches.head(2)"
   ]
  },
  {
   "cell_type": "code",
   "execution_count": 47,
   "metadata": {},
   "outputs": [
    {
     "data": {
      "text/html": [
       "<div>\n",
       "<style scoped>\n",
       "    .dataframe tbody tr th:only-of-type {\n",
       "        vertical-align: middle;\n",
       "    }\n",
       "\n",
       "    .dataframe tbody tr th {\n",
       "        vertical-align: top;\n",
       "    }\n",
       "\n",
       "    .dataframe thead th {\n",
       "        text-align: right;\n",
       "    }\n",
       "</style>\n",
       "<table border=\"1\" class=\"dataframe\">\n",
       "  <thead>\n",
       "    <tr style=\"text-align: right;\">\n",
       "      <th></th>\n",
       "      <th>Team 1</th>\n",
       "      <th>Team 2</th>\n",
       "      <th>Bat</th>\n",
       "      <th>Ground</th>\n",
       "      <th>Result</th>\n",
       "      <th>Winner</th>\n",
       "      <th>pitchn</th>\n",
       "    </tr>\n",
       "  </thead>\n",
       "  <tbody>\n",
       "    <tr>\n",
       "      <td>count</td>\n",
       "      <td>4507.000000</td>\n",
       "      <td>4507.000000</td>\n",
       "      <td>4507.000000</td>\n",
       "      <td>4507.000000</td>\n",
       "      <td>4507.000000</td>\n",
       "      <td>4507.000000</td>\n",
       "      <td>4507.000000</td>\n",
       "    </tr>\n",
       "    <tr>\n",
       "      <td>mean</td>\n",
       "      <td>4.316397</td>\n",
       "      <td>4.678278</td>\n",
       "      <td>0.500777</td>\n",
       "      <td>59.834258</td>\n",
       "      <td>40.502995</td>\n",
       "      <td>3.913690</td>\n",
       "      <td>5.733082</td>\n",
       "    </tr>\n",
       "    <tr>\n",
       "      <td>std</td>\n",
       "      <td>3.151621</td>\n",
       "      <td>3.206999</td>\n",
       "      <td>0.500055</td>\n",
       "      <td>37.270276</td>\n",
       "      <td>0.500047</td>\n",
       "      <td>3.020401</td>\n",
       "      <td>3.487467</td>\n",
       "    </tr>\n",
       "    <tr>\n",
       "      <td>min</td>\n",
       "      <td>0.000000</td>\n",
       "      <td>0.000000</td>\n",
       "      <td>0.000000</td>\n",
       "      <td>0.000000</td>\n",
       "      <td>40.000000</td>\n",
       "      <td>0.000000</td>\n",
       "      <td>0.000000</td>\n",
       "    </tr>\n",
       "    <tr>\n",
       "      <td>25%</td>\n",
       "      <td>2.000000</td>\n",
       "      <td>2.000000</td>\n",
       "      <td>0.000000</td>\n",
       "      <td>29.000000</td>\n",
       "      <td>40.000000</td>\n",
       "      <td>1.000000</td>\n",
       "      <td>4.000000</td>\n",
       "    </tr>\n",
       "    <tr>\n",
       "      <td>50%</td>\n",
       "      <td>4.000000</td>\n",
       "      <td>5.000000</td>\n",
       "      <td>1.000000</td>\n",
       "      <td>60.000000</td>\n",
       "      <td>41.000000</td>\n",
       "      <td>3.000000</td>\n",
       "      <td>6.000000</td>\n",
       "    </tr>\n",
       "    <tr>\n",
       "      <td>75%</td>\n",
       "      <td>7.000000</td>\n",
       "      <td>7.000000</td>\n",
       "      <td>1.000000</td>\n",
       "      <td>93.000000</td>\n",
       "      <td>41.000000</td>\n",
       "      <td>6.000000</td>\n",
       "      <td>10.000000</td>\n",
       "    </tr>\n",
       "    <tr>\n",
       "      <td>max</td>\n",
       "      <td>12.000000</td>\n",
       "      <td>12.000000</td>\n",
       "      <td>1.000000</td>\n",
       "      <td>131.000000</td>\n",
       "      <td>41.000000</td>\n",
       "      <td>12.000000</td>\n",
       "      <td>10.000000</td>\n",
       "    </tr>\n",
       "  </tbody>\n",
       "</table>\n",
       "</div>"
      ],
      "text/plain": [
       "            Team 1       Team 2          Bat       Ground       Result  \\\n",
       "count  4507.000000  4507.000000  4507.000000  4507.000000  4507.000000   \n",
       "mean      4.316397     4.678278     0.500777    59.834258    40.502995   \n",
       "std       3.151621     3.206999     0.500055    37.270276     0.500047   \n",
       "min       0.000000     0.000000     0.000000     0.000000    40.000000   \n",
       "25%       2.000000     2.000000     0.000000    29.000000    40.000000   \n",
       "50%       4.000000     5.000000     1.000000    60.000000    41.000000   \n",
       "75%       7.000000     7.000000     1.000000    93.000000    41.000000   \n",
       "max      12.000000    12.000000     1.000000   131.000000    41.000000   \n",
       "\n",
       "            Winner       pitchn  \n",
       "count  4507.000000  4507.000000  \n",
       "mean      3.913690     5.733082  \n",
       "std       3.020401     3.487467  \n",
       "min       0.000000     0.000000  \n",
       "25%       1.000000     4.000000  \n",
       "50%       3.000000     6.000000  \n",
       "75%       6.000000    10.000000  \n",
       "max      12.000000    10.000000  "
      ]
     },
     "execution_count": 47,
     "metadata": {},
     "output_type": "execute_result"
    }
   ],
   "source": [
    "df = pd.DataFrame(matches)\n",
    "df.describe()"
   ]
  },
  {
   "cell_type": "code",
   "execution_count": 48,
   "metadata": {},
   "outputs": [
    {
     "data": {
      "text/plain": [
       "Team 1            int32\n",
       "Team 2            int32\n",
       "Bat               int32\n",
       "Ground            int32\n",
       "Host_Country     object\n",
       "Result            int64\n",
       "Winner            int32\n",
       "pitchn            int32\n",
       "Toss             object\n",
       "Venue_Team 1     object\n",
       "Venue_Team 2     object\n",
       "Winner_Inning    object\n",
       "dtype: object"
      ]
     },
     "execution_count": 48,
     "metadata": {},
     "output_type": "execute_result"
    }
   ],
   "source": [
    "df.dtypes"
   ]
  },
  {
   "cell_type": "code",
   "execution_count": 55,
   "metadata": {},
   "outputs": [
    {
     "data": {
      "text/plain": [
       "Team 1            int64\n",
       "Team 2            int64\n",
       "Bat               int64\n",
       "Ground            int64\n",
       "Host_Country     object\n",
       "Result            int64\n",
       "Winner            int64\n",
       "pitchn            int64\n",
       "Toss              int32\n",
       "Venue_Team 1      int64\n",
       "Venue_Team 2      int64\n",
       "Winner_Inning    object\n",
       "dtype: object"
      ]
     },
     "execution_count": 55,
     "metadata": {},
     "output_type": "execute_result"
    }
   ],
   "source": [
    "from sklearn.preprocessing import LabelEncoder #using label encoder on our categorical data which is 'ground' and 'day'\n",
    "var_mod = ['Team 1','Team 2','Ground','Winner','Bat','pitchn','Venue_Team 1','Venue_Team 2','Toss']\n",
    "le = LabelEncoder()\n",
    "for i in var_mod:\n",
    "    df[i] = le.fit_transform(df[i])\n",
    "df.dtypes"
   ]
  },
  {
   "cell_type": "code",
   "execution_count": 56,
   "metadata": {},
   "outputs": [],
   "source": [
    "#Import models from scikit learn module:\n",
    "from sklearn.linear_model import LogisticRegression\n",
    "from sklearn.model_selection import train_test_split\n",
    "#from sklearn.cross_validation import KFold   #For K-fold cross validation\n",
    "#from sklearn.cross_validation import train_test_split\n",
    "from sklearn.model_selection import KFold\n",
    "#from sklearn.model_selection import KFold\n",
    "#KFold\n",
    "import sklearn.model_selection\n",
    "sklearn.model_selection.KFold\n",
    "from sklearn.ensemble import RandomForestClassifier\n",
    "from sklearn.tree import DecisionTreeClassifier, export_graphviz\n",
    "from sklearn import metrics\n",
    "\n",
    "#Generic function for making a classification model and accessing performance:\n",
    "def classification_model(model, data, predictors, outcome):\n",
    "  model.fit(data[predictors],data[outcome])\n",
    "  \n",
    "  predictions = model.predict(data[predictors])\n",
    "  \n",
    "  accuracy = metrics.accuracy_score(predictions,data[outcome])\n",
    "  print('Accuracy : %s' % '{0:.3%}'.format(accuracy))\n",
    "\n",
    "  #kf = KFold(data.shape[0], n_splits=5)\n",
    "  kf = KFold(n_splits=2)\n",
    "\n",
    "  error = []\n",
    "  #for train, test in kf:\n",
    "  for train, test in kf.split(data[predictors]):\n",
    "    train_predictors = (data[predictors].iloc[train,:])\n",
    "    \n",
    "    train_target = data[outcome].iloc[train]\n",
    "    \n",
    "    model.fit(train_predictors, train_target)\n",
    "    \n",
    "    error.append(model.score(data[predictors].iloc[test,:], data[outcome].iloc[test]))\n",
    " \n",
    "  print('Cross-Validation Score : %s' % '{0:.3%}'.format(np.mean(error)))\n",
    "\n",
    "  model.fit(data[predictors],data[outcome]) "
   ]
  },
  {
   "cell_type": "code",
   "execution_count": 57,
   "metadata": {},
   "outputs": [
    {
     "name": "stdout",
     "output_type": "stream",
     "text": [
      "Accuracy : 63.346%\n",
      "Cross-Validation Score : 61.549%\n"
     ]
    },
    {
     "name": "stderr",
     "output_type": "stream",
     "text": [
      "C:\\Users\\RajaZia\\Anaconda3\\lib\\site-packages\\sklearn\\linear_model\\logistic.py:432: FutureWarning: Default solver will be changed to 'lbfgs' in 0.22. Specify a solver to silence this warning.\n",
      "  FutureWarning)\n",
      "C:\\Users\\RajaZia\\Anaconda3\\lib\\site-packages\\sklearn\\utils\\validation.py:724: DataConversionWarning: A column-vector y was passed when a 1d array was expected. Please change the shape of y to (n_samples, ), for example using ravel().\n",
      "  y = column_or_1d(y, warn=True)\n",
      "C:\\Users\\RajaZia\\Anaconda3\\lib\\site-packages\\sklearn\\linear_model\\logistic.py:432: FutureWarning: Default solver will be changed to 'lbfgs' in 0.22. Specify a solver to silence this warning.\n",
      "  FutureWarning)\n",
      "C:\\Users\\RajaZia\\Anaconda3\\lib\\site-packages\\sklearn\\utils\\validation.py:724: DataConversionWarning: A column-vector y was passed when a 1d array was expected. Please change the shape of y to (n_samples, ), for example using ravel().\n",
      "  y = column_or_1d(y, warn=True)\n",
      "C:\\Users\\RajaZia\\Anaconda3\\lib\\site-packages\\sklearn\\linear_model\\logistic.py:432: FutureWarning: Default solver will be changed to 'lbfgs' in 0.22. Specify a solver to silence this warning.\n",
      "  FutureWarning)\n",
      "C:\\Users\\RajaZia\\Anaconda3\\lib\\site-packages\\sklearn\\utils\\validation.py:724: DataConversionWarning: A column-vector y was passed when a 1d array was expected. Please change the shape of y to (n_samples, ), for example using ravel().\n",
      "  y = column_or_1d(y, warn=True)\n",
      "C:\\Users\\RajaZia\\Anaconda3\\lib\\site-packages\\sklearn\\linear_model\\logistic.py:432: FutureWarning: Default solver will be changed to 'lbfgs' in 0.22. Specify a solver to silence this warning.\n",
      "  FutureWarning)\n",
      "C:\\Users\\RajaZia\\Anaconda3\\lib\\site-packages\\sklearn\\utils\\validation.py:724: DataConversionWarning: A column-vector y was passed when a 1d array was expected. Please change the shape of y to (n_samples, ), for example using ravel().\n",
      "  y = column_or_1d(y, warn=True)\n"
     ]
    }
   ],
   "source": [
    "#1-Logistic Regression\n",
    "\n",
    "outcome_var=['Result']\n",
    "predictor_var = ['Team 1','Team 2','Ground','Bat','pitchn','Venue_Team 1','Venue_Team 2','Toss']\n",
    "model = LogisticRegression()\n",
    "classification_model(model, df,predictor_var,outcome_var)"
   ]
  },
  {
   "cell_type": "code",
   "execution_count": 59,
   "metadata": {},
   "outputs": [
    {
     "name": "stdout",
     "output_type": "stream",
     "text": [
      "Accuracy : 63.168%\n",
      "Cross-Validation Score : 61.571%\n"
     ]
    },
    {
     "name": "stderr",
     "output_type": "stream",
     "text": [
      "C:\\Users\\RajaZia\\Anaconda3\\lib\\site-packages\\sklearn\\utils\\validation.py:724: DataConversionWarning: A column-vector y was passed when a 1d array was expected. Please change the shape of y to (n_samples, ), for example using ravel().\n",
      "  y = column_or_1d(y, warn=True)\n",
      "C:\\Users\\RajaZia\\Anaconda3\\lib\\site-packages\\sklearn\\utils\\validation.py:724: DataConversionWarning: A column-vector y was passed when a 1d array was expected. Please change the shape of y to (n_samples, ), for example using ravel().\n",
      "  y = column_or_1d(y, warn=True)\n",
      "C:\\Users\\RajaZia\\Anaconda3\\lib\\site-packages\\sklearn\\utils\\validation.py:724: DataConversionWarning: A column-vector y was passed when a 1d array was expected. Please change the shape of y to (n_samples, ), for example using ravel().\n",
      "  y = column_or_1d(y, warn=True)\n",
      "C:\\Users\\RajaZia\\Anaconda3\\lib\\site-packages\\sklearn\\utils\\validation.py:724: DataConversionWarning: A column-vector y was passed when a 1d array was expected. Please change the shape of y to (n_samples, ), for example using ravel().\n",
      "  y = column_or_1d(y, warn=True)\n"
     ]
    }
   ],
   "source": [
    "#Gaussian NAive bayes algorithm\n",
    "from sklearn.naive_bayes import GaussianNB\n",
    "outcome_var=['Result']\n",
    "predictor_var = ['Team 1','Team 2','Ground','Bat','pitchn','Venue_Team 1','Venue_Team 2','Toss']\n",
    "model = GaussianNB() \n",
    "classification_model(model, df,predictor_var,outcome_var)"
   ]
  },
  {
   "cell_type": "code",
   "execution_count": 60,
   "metadata": {},
   "outputs": [
    {
     "name": "stderr",
     "output_type": "stream",
     "text": [
      "C:\\Users\\RajaZia\\Anaconda3\\lib\\site-packages\\ipykernel_launcher.py:17: DataConversionWarning: A column-vector y was passed when a 1d array was expected. Please change the shape of y to (n_samples, ), for example using ravel().\n"
     ]
    },
    {
     "name": "stdout",
     "output_type": "stream",
     "text": [
      "Accuracy : 79.942%\n"
     ]
    },
    {
     "name": "stderr",
     "output_type": "stream",
     "text": [
      "C:\\Users\\RajaZia\\Anaconda3\\lib\\site-packages\\ipykernel_launcher.py:34: DataConversionWarning: A column-vector y was passed when a 1d array was expected. Please change the shape of y to (n_samples, ), for example using ravel().\n",
      "C:\\Users\\RajaZia\\Anaconda3\\lib\\site-packages\\ipykernel_launcher.py:34: DataConversionWarning: A column-vector y was passed when a 1d array was expected. Please change the shape of y to (n_samples, ), for example using ravel().\n"
     ]
    },
    {
     "name": "stdout",
     "output_type": "stream",
     "text": [
      "Cross-Validation Score : 55.403%\n"
     ]
    },
    {
     "name": "stderr",
     "output_type": "stream",
     "text": [
      "C:\\Users\\RajaZia\\Anaconda3\\lib\\site-packages\\ipykernel_launcher.py:40: DataConversionWarning: A column-vector y was passed when a 1d array was expected. Please change the shape of y to (n_samples, ), for example using ravel().\n"
     ]
    }
   ],
   "source": [
    "#applying knn algorithm\n",
    "from sklearn.neighbors import KNeighborsClassifier\n",
    "model = KNeighborsClassifier(n_neighbors=3)\n",
    "classification_model(model, df,predictor_var,outcome_var)"
   ]
  },
  {
   "cell_type": "code",
   "execution_count": 61,
   "metadata": {},
   "outputs": [
    {
     "name": "stderr",
     "output_type": "stream",
     "text": [
      "C:\\Users\\RajaZia\\Anaconda3\\lib\\site-packages\\sklearn\\utils\\validation.py:724: DataConversionWarning: A column-vector y was passed when a 1d array was expected. Please change the shape of y to (n_samples, ), for example using ravel().\n",
      "  y = column_or_1d(y, warn=True)\n"
     ]
    },
    {
     "name": "stdout",
     "output_type": "stream",
     "text": [
      "Accuracy : 89.927%\n"
     ]
    },
    {
     "name": "stderr",
     "output_type": "stream",
     "text": [
      "C:\\Users\\RajaZia\\Anaconda3\\lib\\site-packages\\sklearn\\utils\\validation.py:724: DataConversionWarning: A column-vector y was passed when a 1d array was expected. Please change the shape of y to (n_samples, ), for example using ravel().\n",
      "  y = column_or_1d(y, warn=True)\n",
      "C:\\Users\\RajaZia\\Anaconda3\\lib\\site-packages\\sklearn\\utils\\validation.py:724: DataConversionWarning: A column-vector y was passed when a 1d array was expected. Please change the shape of y to (n_samples, ), for example using ravel().\n",
      "  y = column_or_1d(y, warn=True)\n"
     ]
    },
    {
     "name": "stdout",
     "output_type": "stream",
     "text": [
      "Cross-Validation Score : 56.002%\n"
     ]
    },
    {
     "name": "stderr",
     "output_type": "stream",
     "text": [
      "C:\\Users\\RajaZia\\Anaconda3\\lib\\site-packages\\sklearn\\utils\\validation.py:724: DataConversionWarning: A column-vector y was passed when a 1d array was expected. Please change the shape of y to (n_samples, ), for example using ravel().\n",
      "  y = column_or_1d(y, warn=True)\n"
     ]
    }
   ],
   "source": [
    "#Import Library\n",
    "from sklearn import svm\n",
    "#Assumed you have, X (predictor) and Y (target) for training data set and x_test(predictor) of test_dataset\n",
    "# Create SVM classification object \n",
    "model = svm.SVC(kernel='rbf', C=1, gamma=1) \n",
    "outcome_var=['Result']\n",
    "predictor_var = ['Team 1','Team 2','Ground','Bat','pitchn','Venue_Team 1','Venue_Team 2','Toss']\n",
    "# there is various option associated with it, like changing kernel, gamma and C value. Will discuss more # about it in next section.Train the model using the training sets and check score\n",
    "classification_model(model, df,predictor_var,outcome_var)"
   ]
  },
  {
   "cell_type": "code",
   "execution_count": 62,
   "metadata": {},
   "outputs": [
    {
     "name": "stderr",
     "output_type": "stream",
     "text": [
      "C:\\Users\\RajaZia\\Anaconda3\\lib\\site-packages\\sklearn\\ensemble\\gradient_boosting.py:1450: DataConversionWarning: A column-vector y was passed when a 1d array was expected. Please change the shape of y to (n_samples, ), for example using ravel().\n",
      "  y = column_or_1d(y, warn=True)\n"
     ]
    },
    {
     "name": "stdout",
     "output_type": "stream",
     "text": [
      "Accuracy : 76.925%\n"
     ]
    },
    {
     "name": "stderr",
     "output_type": "stream",
     "text": [
      "C:\\Users\\RajaZia\\Anaconda3\\lib\\site-packages\\sklearn\\ensemble\\gradient_boosting.py:1450: DataConversionWarning: A column-vector y was passed when a 1d array was expected. Please change the shape of y to (n_samples, ), for example using ravel().\n",
      "  y = column_or_1d(y, warn=True)\n",
      "C:\\Users\\RajaZia\\Anaconda3\\lib\\site-packages\\sklearn\\ensemble\\gradient_boosting.py:1450: DataConversionWarning: A column-vector y was passed when a 1d array was expected. Please change the shape of y to (n_samples, ), for example using ravel().\n",
      "  y = column_or_1d(y, warn=True)\n"
     ]
    },
    {
     "name": "stdout",
     "output_type": "stream",
     "text": [
      "Cross-Validation Score : 62.236%\n"
     ]
    },
    {
     "name": "stderr",
     "output_type": "stream",
     "text": [
      "C:\\Users\\RajaZia\\Anaconda3\\lib\\site-packages\\sklearn\\ensemble\\gradient_boosting.py:1450: DataConversionWarning: A column-vector y was passed when a 1d array was expected. Please change the shape of y to (n_samples, ), for example using ravel().\n",
      "  y = column_or_1d(y, warn=True)\n"
     ]
    }
   ],
   "source": [
    "#Gradient boost algorithm\n",
    "from sklearn.ensemble import GradientBoostingClassifier\n",
    "model= GradientBoostingClassifier(n_estimators=1000, learning_rate=0.1, max_depth=3, random_state=0)\n",
    "classification_model(model, df,predictor_var,outcome_var)"
   ]
  },
  {
   "cell_type": "code",
   "execution_count": 63,
   "metadata": {},
   "outputs": [
    {
     "name": "stdout",
     "output_type": "stream",
     "text": [
      "Accuracy : 90.326%\n",
      "Cross-Validation Score : 55.247%\n"
     ]
    }
   ],
   "source": [
    "#Decision tree algorithm\n",
    "from sklearn import tree\n",
    "model = tree.DecisionTreeClassifier(criterion='gini')\n",
    "outcome_var=['Result']\n",
    "predictor_var = ['Team 1','Team 2','Ground','Bat','pitchn','Venue_Team 1','Venue_Team 2','Toss']\n",
    "classification_model(model, df,predictor_var,outcome_var)"
   ]
  },
  {
   "cell_type": "code",
   "execution_count": 68,
   "metadata": {},
   "outputs": [
    {
     "name": "stderr",
     "output_type": "stream",
     "text": [
      "C:\\Users\\RajaZia\\Anaconda3\\lib\\site-packages\\ipykernel_launcher.py:17: DataConversionWarning: A column-vector y was passed when a 1d array was expected. Please change the shape of y to (n_samples,), for example using ravel().\n"
     ]
    },
    {
     "name": "stdout",
     "output_type": "stream",
     "text": [
      "Accuracy : 76.392%\n"
     ]
    },
    {
     "name": "stderr",
     "output_type": "stream",
     "text": [
      "C:\\Users\\RajaZia\\Anaconda3\\lib\\site-packages\\ipykernel_launcher.py:34: DataConversionWarning: A column-vector y was passed when a 1d array was expected. Please change the shape of y to (n_samples,), for example using ravel().\n",
      "C:\\Users\\RajaZia\\Anaconda3\\lib\\site-packages\\ipykernel_launcher.py:34: DataConversionWarning: A column-vector y was passed when a 1d array was expected. Please change the shape of y to (n_samples,), for example using ravel().\n"
     ]
    },
    {
     "name": "stdout",
     "output_type": "stream",
     "text": [
      "Cross-Validation Score : 58.265%\n"
     ]
    },
    {
     "name": "stderr",
     "output_type": "stream",
     "text": [
      "C:\\Users\\RajaZia\\Anaconda3\\lib\\site-packages\\ipykernel_launcher.py:40: DataConversionWarning: A column-vector y was passed when a 1d array was expected. Please change the shape of y to (n_samples,), for example using ravel().\n"
     ]
    }
   ],
   "source": [
    "#2-RandomForest \n",
    "\n",
    "model = RandomForestClassifier(n_estimators=100)\n",
    "outcome_var=['Result']\n",
    "predictor_var = ['Team 1','Team 2','Bat','Venue_Team 1','Venue_Team 2','Toss']\n",
    "classification_model(model, df,predictor_var,outcome_var)"
   ]
  },
  {
   "cell_type": "code",
   "execution_count": 69,
   "metadata": {},
   "outputs": [
    {
     "ename": "ValueError",
     "evalue": "array([40], dtype=int64) is not in list",
     "output_type": "error",
     "traceback": [
      "\u001b[1;31m---------------------------------------------------------------------------\u001b[0m",
      "\u001b[1;31mValueError\u001b[0m                                Traceback (most recent call last)",
      "\u001b[1;32m<ipython-input-69-4dbf78fab4fe>\u001b[0m in \u001b[0;36m<module>\u001b[1;34m\u001b[0m\n\u001b[0;32m      5\u001b[0m \u001b[0minput\u001b[0m \u001b[1;33m=\u001b[0m \u001b[0mnp\u001b[0m\u001b[1;33m.\u001b[0m\u001b[0marray\u001b[0m\u001b[1;33m(\u001b[0m\u001b[0minput\u001b[0m\u001b[1;33m)\u001b[0m\u001b[1;33m.\u001b[0m\u001b[0mreshape\u001b[0m\u001b[1;33m(\u001b[0m\u001b[1;33m(\u001b[0m\u001b[1;36m1\u001b[0m\u001b[1;33m,\u001b[0m \u001b[1;33m-\u001b[0m\u001b[1;36m1\u001b[0m\u001b[1;33m)\u001b[0m\u001b[1;33m)\u001b[0m\u001b[1;33m\u001b[0m\u001b[1;33m\u001b[0m\u001b[0m\n\u001b[0;32m      6\u001b[0m \u001b[0moutput\u001b[0m\u001b[1;33m=\u001b[0m\u001b[0mmodel\u001b[0m\u001b[1;33m.\u001b[0m\u001b[0mpredict\u001b[0m\u001b[1;33m(\u001b[0m\u001b[0minput\u001b[0m\u001b[1;33m)\u001b[0m\u001b[1;33m\u001b[0m\u001b[1;33m\u001b[0m\u001b[0m\n\u001b[1;32m----> 7\u001b[1;33m \u001b[0mprint\u001b[0m\u001b[1;33m(\u001b[0m\u001b[0mlist\u001b[0m\u001b[1;33m(\u001b[0m\u001b[0mdicVal\u001b[0m\u001b[1;33m.\u001b[0m\u001b[0mkeys\u001b[0m\u001b[1;33m(\u001b[0m\u001b[1;33m)\u001b[0m\u001b[1;33m)\u001b[0m\u001b[1;33m[\u001b[0m\u001b[0mlist\u001b[0m\u001b[1;33m(\u001b[0m\u001b[0mdicVal\u001b[0m\u001b[1;33m.\u001b[0m\u001b[0mvalues\u001b[0m\u001b[1;33m(\u001b[0m\u001b[1;33m)\u001b[0m\u001b[1;33m)\u001b[0m\u001b[1;33m.\u001b[0m\u001b[0mindex\u001b[0m\u001b[1;33m(\u001b[0m\u001b[0moutput\u001b[0m\u001b[1;33m)\u001b[0m\u001b[1;33m]\u001b[0m\u001b[1;33m)\u001b[0m\u001b[1;31m#finding key i.e team name from value\u001b[0m\u001b[1;33m\u001b[0m\u001b[1;33m\u001b[0m\u001b[0m\n\u001b[0m",
      "\u001b[1;31mValueError\u001b[0m: array([40], dtype=int64) is not in list"
     ]
    }
   ],
   "source": [
    "# Let's Start our prediction with Ind Vs Aus (Quiet a rivalry)\n",
    "team1='Ind'\n",
    "team2='Aus'\n",
    "input=[dicVal[team1],dicVal[team2],'1','2','1','3']\n",
    "input = np.array(input).reshape((1, -1))\n",
    "output=model.predict(input)\n",
    "print(list(dicVal.keys())[list(dicVal.values()).index(output)])#finding key i.e team name from value"
   ]
  },
  {
   "cell_type": "code",
   "execution_count": 70,
   "metadata": {},
   "outputs": [
    {
     "name": "stdout",
     "output_type": "stream",
     "text": [
      "Team 2          42.779382\n",
      "Team 1          42.323436\n",
      "Toss             4.603288\n",
      "Bat              4.519295\n",
      "Venue_Team 1     2.922856\n",
      "Venue_Team 2     2.851742\n",
      "dtype: float64\n"
     ]
    }
   ],
   "source": [
    "#feature Importance\n",
    "imp_input = pd.Series(model.feature_importances_, index=predictor_var).sort_values(ascending=False)\n",
    "print(imp_input*100)"
   ]
  },
  {
   "cell_type": "code",
   "execution_count": null,
   "metadata": {},
   "outputs": [],
   "source": []
  },
  {
   "cell_type": "code",
   "execution_count": null,
   "metadata": {},
   "outputs": [],
   "source": []
  }
 ],
 "metadata": {
  "kernelspec": {
   "display_name": "Python 3 (ipykernel)",
   "language": "python",
   "name": "python3"
  },
  "language_info": {
   "codemirror_mode": {
    "name": "ipython",
    "version": 3
   },
   "file_extension": ".py",
   "mimetype": "text/x-python",
   "name": "python",
   "nbconvert_exporter": "python",
   "pygments_lexer": "ipython3",
   "version": "3.9.6"
  }
 },
 "nbformat": 4,
 "nbformat_minor": 2
}
